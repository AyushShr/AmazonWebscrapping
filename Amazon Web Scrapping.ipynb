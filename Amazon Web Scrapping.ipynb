{
 "cells": [
  {
   "cell_type": "code",
   "execution_count": 36,
   "id": "b675e951",
   "metadata": {},
   "outputs": [],
   "source": [
    "from bs4 import BeautifulSoup\n",
    "import requests\n",
    "import time\n",
    "import datetime\n",
    "import smtplib"
   ]
  },
  {
   "cell_type": "code",
   "execution_count": 31,
   "id": "d10b79b0",
   "metadata": {},
   "outputs": [
    {
     "name": "stdout",
     "output_type": "stream",
     "text": [
      "\n",
      "              Samsung Galaxy S24 Plus 5G AI Smartphone (Onyx Black, 12GB, 256GB Storage)\n",
      "             \n",
      "\n",
      "\n",
      "\n",
      "\n",
      "                ₹99,999.00\n",
      "               \n",
      "\n",
      "\n",
      "\n",
      "\n",
      "\n",
      "                  ₹\n",
      "                 \n",
      "\n",
      "                  99,999\n",
      "                 \n",
      "\n",
      "\n",
      "\n",
      "\n",
      "\n",
      "\n",
      "\n",
      "\n",
      "\n",
      "\n",
      "\n",
      "\n",
      "\n",
      "\n"
     ]
    }
   ],
   "source": [
    "URL = \"https://www.amazon.in/Samsung-Galaxy-Smartphone-Black-Storage/dp/B0CR44MHBD/ref=sr_1_1_sspa?dib=eyJ2IjoiMSJ9.h3PDRucT_90IW8n6HrId2NHUBIvKqsjW2qBQlyH6hSezIGh9N4w9GfMTwNFh6AMiifyqwTXY1gEI0kkKZf2EIi6dnbu60Bwujnmy2-OucrP1DC49AAK2RRq-uKGblCdDfAKEzlsWXNZTf0EKbbHu5H-TiNssPgHc9YbWuBnTbnkLGsFLP8AJryiK1FBjgx22tOFOJlXoQH_CWl8eddsb7S2TMGR9hKvgT1iSBuZ5XCLLb7rx3yKY39Qcgb8C5xdf0HVE6Szbp-Psl2e0aQLLqieYvpXFc8fooXpGpLyWmJ8.cjka7CWU-kXllAWptO-MWJvAozryO-5kI4WZUMuZjcg&dib_tag=se&keywords=samsung+s24&qid=1711177297&s=electronics&sr=1-1-spons&sp_csd=d2lkZ2V0TmFtZT1zcF9hdGY&psc=1\"\n",
    "\n",
    "headers = {\"User-Agent\": \"Mozilla/5.0 (Windows NT 10.0; Win64; x64) AppleWebKit/537.36 (KHTML, like Gecko) Chrome/123.0.0.0 Safari/537.36\"}\n",
    "\n",
    "page = requests.get(URL, headers = headers)\n",
    "\n",
    "soup1 = BeautifulSoup(page.content,\"html.parser\") #all the html code of page content\n",
    "\n",
    "soup2 = BeautifulSoup(soup1.prettify(), 'html.parser')\n",
    "\n",
    "\n",
    "title = soup2.find(id='productTitle').get_text()\n",
    "\n",
    "price = soup2.find(id='corePriceDisplay_desktop_feature_div').get_text()\n",
    "print(title)\n",
    "print(price)"
   ]
  },
  {
   "cell_type": "code",
   "execution_count": 35,
   "id": "281b2770",
   "metadata": {
    "scrolled": true
   },
   "outputs": [
    {
     "name": "stdout",
     "output_type": "stream",
     "text": [
      "Samsung Galaxy S24 Plus 5G AI Smartphone (Onyx Black, 12GB, 256GB Storage)\n",
      "9,999.00\n",
      "               \n",
      "\n",
      "\n",
      "\n",
      "\n",
      "\n",
      "                  ₹\n",
      "                 \n",
      "\n",
      "                  99,999\n"
     ]
    }
   ],
   "source": [
    "price = price.strip()[1:]\n",
    "title = title.strip()\n",
    "\n",
    "print(title)\n",
    "print(price)"
   ]
  },
  {
   "cell_type": "code",
   "execution_count": 37,
   "id": "19e3acf3",
   "metadata": {},
   "outputs": [
    {
     "name": "stdout",
     "output_type": "stream",
     "text": [
      "2024-03-23\n"
     ]
    }
   ],
   "source": [
    "today = datetime.date.today()\n",
    "print(today)"
   ]
  },
  {
   "cell_type": "code",
   "execution_count": 34,
   "id": "c9540db4",
   "metadata": {},
   "outputs": [],
   "source": [
    "import csv\n",
    "header = ['Title', 'Price', Date]\n",
    "data = [title, price, today]\n",
    "\n",
    "with open('AmazonWebScrapperDataset.csv', 'w' , newline = '',encoding ='UTF8') as f:\n",
    "    writer = csv.writer(f)  # w = write, a = append\n",
    "    writer.writerow(header)\n",
    "    writer.writerow(data)\n",
    "\n"
   ]
  },
  {
   "cell_type": "code",
   "execution_count": 41,
   "id": "6c4091be",
   "metadata": {},
   "outputs": [
    {
     "name": "stdout",
     "output_type": "stream",
     "text": [
      "                                               Title  \\\n",
      "0  Samsung Galaxy S24 Plus 5G AI Smartphone (Onyx...   \n",
      "1  Samsung Galaxy S24 Plus 5G AI Smartphone (Onyx...   \n",
      "\n",
      "                                               Price  \n",
      "0  99,999.00\\n               \\n\\n\\n\\n\\n\\n        ...  \n",
      "1  99,999.00\\n               \\n\\n\\n\\n\\n\\n        ...  \n"
     ]
    }
   ],
   "source": [
    "import pandas as pd\n",
    "df = pd.read_csv(r'C:\\Users\\ayush\\AmazonWebScrapperDataset.csv')\n",
    "\n",
    "print(df)"
   ]
  },
  {
   "cell_type": "code",
   "execution_count": 42,
   "id": "8c9e0a6b",
   "metadata": {},
   "outputs": [],
   "source": [
    "with open('AmazonWebScrapperDataset.csv', 'a+' , newline = '',encoding ='UTF8') as f:\n",
    "    writer = csv.writer(f)  #a+ = Append\n",
    "    writer.writerow(data)"
   ]
  },
  {
   "cell_type": "code",
   "execution_count": 43,
   "id": "e5e354e7",
   "metadata": {},
   "outputs": [],
   "source": [
    "\n",
    "def check_price():\n",
    "    URL = \"https://www.amazon.in/Samsung-Galaxy-Smartphone-Black-Storage/dp/B0CR44MHBD/ref=sr_1_1_sspa?dib=eyJ2IjoiMSJ9.h3PDRucT_90IW8n6HrId2NHUBIvKqsjW2qBQlyH6hSezIGh9N4w9GfMTwNFh6AMiifyqwTXY1gEI0kkKZf2EIi6dnbu60Bwujnmy2-OucrP1DC49AAK2RRq-uKGblCdDfAKEzlsWXNZTf0EKbbHu5H-TiNssPgHc9YbWuBnTbnkLGsFLP8AJryiK1FBjgx22tOFOJlXoQH_CWl8eddsb7S2TMGR9hKvgT1iSBuZ5XCLLb7rx3yKY39Qcgb8C5xdf0HVE6Szbp-Psl2e0aQLLqieYvpXFc8fooXpGpLyWmJ8.cjka7CWU-kXllAWptO-MWJvAozryO-5kI4WZUMuZjcg&dib_tag=se&keywords=samsung+s24&qid=1711177297&s=electronics&sr=1-1-spons&sp_csd=d2lkZ2V0TmFtZT1zcF9hdGY&psc=1\"\n",
    "\n",
    "    headers = {\"User-Agent\": \"Mozilla/5.0 (Windows NT 10.0; Win64; x64) AppleWebKit/537.36 (KHTML, like Gecko) Chrome/123.0.0.0 Safari/537.36\"}\n",
    "\n",
    "    page = requests.get(URL, headers = headers)\n",
    "\n",
    "    soup1 = BeautifulSoup(page.content,\"html.parser\") #all the html code of page content\n",
    "\n",
    "    soup2 = BeautifulSoup(soup1.prettify(), 'html.parser')\n",
    "\n",
    "\n",
    "    title = soup2.find(id='productTitle').get_text()\n",
    "\n",
    "    price = soup2.find(id='corePriceDisplay_desktop_feature_div').get_text()\n",
    "    print(title)\n",
    "    print(price)\n",
    "    \n",
    "    today = datetime.date.today()\n",
    "    print(today)\n",
    "    \n",
    "    import csv\n",
    "    header = ['Title', 'Price', Date]\n",
    "    data = [title, price, today]\n",
    "    \n",
    "    with open('AmazonWebScrapperDataset.csv', 'a+' , newline = '',encoding ='UTF8') as f:\n",
    "        writer = csv.writer(f)  #a+ = Append\n",
    "        writer.writerow(data)\n",
    "        \n",
    "    if(price < 90000):\n",
    "        send_mail()"
   ]
  },
  {
   "cell_type": "code",
   "execution_count": 44,
   "id": "6dedec7c",
   "metadata": {},
   "outputs": [
    {
     "name": "stdout",
     "output_type": "stream",
     "text": [
      "\n",
      "              Samsung Galaxy S24 Plus 5G AI Smartphone (Onyx Black, 12GB, 256GB Storage)\n",
      "             \n",
      "\n",
      "\n",
      "\n",
      "\n",
      "                ₹99,999.00\n",
      "               \n",
      "\n",
      "\n",
      "\n",
      "\n",
      "\n",
      "                  ₹\n",
      "                 \n",
      "\n",
      "                  99,999\n",
      "                 \n",
      "\n",
      "\n",
      "\n",
      "\n",
      "\n",
      "\n",
      "\n",
      "\n",
      "\n",
      "\n",
      "\n",
      "\n",
      "\n",
      "\n",
      "2024-03-23\n"
     ]
    },
    {
     "ename": "NameError",
     "evalue": "name 'Date' is not defined",
     "output_type": "error",
     "traceback": [
      "\u001b[1;31m---------------------------------------------------------------------------\u001b[0m",
      "\u001b[1;31mNameError\u001b[0m                                 Traceback (most recent call last)",
      "\u001b[1;32m~\\AppData\\Local\\Temp/ipykernel_5072/2903748148.py\u001b[0m in \u001b[0;36m<module>\u001b[1;34m\u001b[0m\n\u001b[0;32m      1\u001b[0m \u001b[1;32mwhile\u001b[0m\u001b[1;33m(\u001b[0m\u001b[1;32mTrue\u001b[0m\u001b[1;33m)\u001b[0m\u001b[1;33m:\u001b[0m\u001b[1;33m\u001b[0m\u001b[1;33m\u001b[0m\u001b[0m\n\u001b[1;32m----> 2\u001b[1;33m     \u001b[0mcheck_price\u001b[0m\u001b[1;33m(\u001b[0m\u001b[1;33m)\u001b[0m\u001b[1;33m\u001b[0m\u001b[1;33m\u001b[0m\u001b[0m\n\u001b[0m\u001b[0;32m      3\u001b[0m     \u001b[0mtime\u001b[0m\u001b[1;33m.\u001b[0m\u001b[0msleep\u001b[0m\u001b[1;33m(\u001b[0m\u001b[1;36m3\u001b[0m\u001b[1;33m)\u001b[0m\u001b[1;33m\u001b[0m\u001b[1;33m\u001b[0m\u001b[0m\n",
      "\u001b[1;32m~\\AppData\\Local\\Temp/ipykernel_5072/1423733030.py\u001b[0m in \u001b[0;36mcheck_price\u001b[1;34m()\u001b[0m\n\u001b[0;32m     21\u001b[0m \u001b[1;33m\u001b[0m\u001b[0m\n\u001b[0;32m     22\u001b[0m     \u001b[1;32mimport\u001b[0m \u001b[0mcsv\u001b[0m\u001b[1;33m\u001b[0m\u001b[1;33m\u001b[0m\u001b[0m\n\u001b[1;32m---> 23\u001b[1;33m     \u001b[0mheader\u001b[0m \u001b[1;33m=\u001b[0m \u001b[1;33m[\u001b[0m\u001b[1;34m'Title'\u001b[0m\u001b[1;33m,\u001b[0m \u001b[1;34m'Price'\u001b[0m\u001b[1;33m,\u001b[0m \u001b[0mDate\u001b[0m\u001b[1;33m]\u001b[0m\u001b[1;33m\u001b[0m\u001b[1;33m\u001b[0m\u001b[0m\n\u001b[0m\u001b[0;32m     24\u001b[0m     \u001b[0mdata\u001b[0m \u001b[1;33m=\u001b[0m \u001b[1;33m[\u001b[0m\u001b[0mtitle\u001b[0m\u001b[1;33m,\u001b[0m \u001b[0mprice\u001b[0m\u001b[1;33m,\u001b[0m \u001b[0mtoday\u001b[0m\u001b[1;33m]\u001b[0m\u001b[1;33m\u001b[0m\u001b[1;33m\u001b[0m\u001b[0m\n\u001b[0;32m     25\u001b[0m \u001b[1;33m\u001b[0m\u001b[0m\n",
      "\u001b[1;31mNameError\u001b[0m: name 'Date' is not defined"
     ]
    }
   ],
   "source": [
    "while(True):\n",
    "    check_price()\n",
    "    time.sleep(3)"
   ]
  },
  {
   "cell_type": "code",
   "execution_count": null,
   "id": "fdb6fd35",
   "metadata": {},
   "outputs": [],
   "source": [
    "def send_mail():\n",
    "    server = smtplib.SMTP_SSL('smtp.gmail.com',465)\n",
    "    server.ehlo()\n",
    "    server.starttls()\n",
    "    server.ehlo()\n",
    "    server.login('ayush.s.shri@gmail.com','xxxxxxxxxxxxxx')\n",
    "    \n",
    "    subject = \"The mobile id less than rs90,000!\"\n",
    "    body = \"Ayush, This is the moment we have been waiting for.Link here: https://www.amazon.in/Samsung-Galaxy-Smartphone-Black-Storage/dp/B0CR44MHBD/ref=sr_1_1_sspa?dib=eyJ2IjoiMSJ9.h3PDRucT_90IW8n6HrId2NHUBIvKqsjW2qBQlyH6hSezIGh9N4w9GfMTwNFh6AMiifyqwTXY1gEI0kkKZf2EIi6dnbu60Bwujnmy2-OucrP1DC49AAK2RRq-uKGblCdDfAKEzlsWXNZTf0EKbbHu5H-TiNssPgHc9YbWuBnTbnkLGsFLP8AJryiK1FBjgx22tOFOJlXoQH_CWl8eddsb7S2TMGR9hKvgT1iSBuZ5XCLLb7rx3yKY39Qcgb8C5xdf0HVE6Szbp-Psl2e0aQLLqieYvpXFc8fooXpGpLyWmJ8.cjka7CWU-kXllAWptO-MWJvAozryO-5kI4WZUMuZjcg&dib_tag=se&keywords=samsung+s24&qid=1711177297&s=electronics&sr=1-1-spons&sp_csd=d2lkZ2V0TmFtZT1zcF9hdGY&psc=1\"\n",
    "   \n",
    "    msg = f\"Subject: {subject}\\n\\n{body}\"\n",
    "    \n",
    "    server.sendmail(\n",
    "        'Ayush.s.shri@gmial.com',\n",
    "        msg\n",
    "     \n",
    "    )"
   ]
  }
 ],
 "metadata": {
  "kernelspec": {
   "display_name": "Python 3 (ipykernel)",
   "language": "python",
   "name": "python3"
  },
  "language_info": {
   "codemirror_mode": {
    "name": "ipython",
    "version": 3
   },
   "file_extension": ".py",
   "mimetype": "text/x-python",
   "name": "python",
   "nbconvert_exporter": "python",
   "pygments_lexer": "ipython3",
   "version": "3.9.7"
  }
 },
 "nbformat": 4,
 "nbformat_minor": 5
}
